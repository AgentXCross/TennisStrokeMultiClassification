{
 "cells": [
  {
   "cell_type": "markdown",
   "id": "99b554e9",
   "metadata": {},
   "source": [
    "# Tennis Stroke Classification: Model Development"
   ]
  },
  {
   "cell_type": "markdown",
   "id": "3f3807d5",
   "metadata": {},
   "source": [
    "### 0. Import PyTorch and Set Up Device Agnostic Code"
   ]
  },
  {
   "cell_type": "code",
   "execution_count": 2,
   "id": "4e36ecf8",
   "metadata": {},
   "outputs": [],
   "source": [
    "import torch\n",
    "from torch import nn\n",
    "\n",
    "device = 'mps' if torch.backends.mps.is_available() else 'cpu'"
   ]
  },
  {
   "cell_type": "code",
   "execution_count": null,
   "id": "8c2c7af7",
   "metadata": {},
   "outputs": [],
   "source": []
  }
 ],
 "metadata": {
  "kernelspec": {
   "display_name": "venv (3.13.6)",
   "language": "python",
   "name": "python3"
  },
  "language_info": {
   "codemirror_mode": {
    "name": "ipython",
    "version": 3
   },
   "file_extension": ".py",
   "mimetype": "text/x-python",
   "name": "python",
   "nbconvert_exporter": "python",
   "pygments_lexer": "ipython3",
   "version": "3.13.6"
  }
 },
 "nbformat": 4,
 "nbformat_minor": 5
}
